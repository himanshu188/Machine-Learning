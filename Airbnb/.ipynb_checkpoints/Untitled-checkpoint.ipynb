{
 "cells": [
  {
   "cell_type": "markdown",
   "metadata": {},
   "source": [
    "<h2>Airbnb Dataset : Price Prediction</h2><hr>\n",
    "<p> This is the Dataset of the Airbnb Homestays for the July 2017. It contains all the features as below :\n",
    "<ul>\n",
    "    <li>room_id</li>\n",
    "    <li>survey_id</li>\n",
    "    <li>host_id</li>\n",
    "    <li>room_type</li>\n",
    "    <li>city</li>\n",
    "    <li>neighborhood</li>\n",
    "    <li>reviews</li>\n",
    "    <li>satisfaction</li>\n",
    "    <li>accommodates</li>\n",
    "    <li>bedrooms</li>\n",
    "    <li>price</li>\n",
    "</ul>\n",
    "</p>"
   ]
  },
  {
   "cell_type": "code",
   "execution_count": 33,
   "metadata": {},
   "outputs": [
    {
     "data": {
      "text/html": [
       "<div>\n",
       "<style scoped>\n",
       "    .dataframe tbody tr th:only-of-type {\n",
       "        vertical-align: middle;\n",
       "    }\n",
       "\n",
       "    .dataframe tbody tr th {\n",
       "        vertical-align: top;\n",
       "    }\n",
       "\n",
       "    .dataframe thead th {\n",
       "        text-align: right;\n",
       "    }\n",
       "</style>\n",
       "<table border=\"1\" class=\"dataframe\">\n",
       "  <thead>\n",
       "    <tr style=\"text-align: right;\">\n",
       "      <th></th>\n",
       "      <th>room_id</th>\n",
       "      <th>survey_id</th>\n",
       "      <th>host_id</th>\n",
       "      <th>room_type</th>\n",
       "      <th>country</th>\n",
       "      <th>city</th>\n",
       "      <th>borough</th>\n",
       "      <th>neighborhood</th>\n",
       "      <th>reviews</th>\n",
       "      <th>overall_satisfaction</th>\n",
       "      <th>accommodates</th>\n",
       "      <th>bedrooms</th>\n",
       "      <th>bathrooms</th>\n",
       "      <th>price</th>\n",
       "      <th>minstay</th>\n",
       "      <th>last_modified</th>\n",
       "      <th>latitude</th>\n",
       "      <th>longitude</th>\n",
       "      <th>location</th>\n",
       "    </tr>\n",
       "  </thead>\n",
       "  <tbody>\n",
       "    <tr>\n",
       "      <th>0</th>\n",
       "      <td>19767654</td>\n",
       "      <td>1428</td>\n",
       "      <td>70082317</td>\n",
       "      <td>Entire home/apt</td>\n",
       "      <td>NaN</td>\n",
       "      <td>Toronto</td>\n",
       "      <td>NaN</td>\n",
       "      <td>Niagara (82)</td>\n",
       "      <td>0</td>\n",
       "      <td>0.0</td>\n",
       "      <td>3</td>\n",
       "      <td>2.0</td>\n",
       "      <td>NaN</td>\n",
       "      <td>96.0</td>\n",
       "      <td>NaN</td>\n",
       "      <td>2017-07-10 14:31:07.859320</td>\n",
       "      <td>43.638055</td>\n",
       "      <td>-79.401659</td>\n",
       "      <td>0101000020E61000003849F3C7B4D953C04F0647C9ABD1...</td>\n",
       "    </tr>\n",
       "    <tr>\n",
       "      <th>1</th>\n",
       "      <td>11521420</td>\n",
       "      <td>1428</td>\n",
       "      <td>7994690</td>\n",
       "      <td>Entire home/apt</td>\n",
       "      <td>NaN</td>\n",
       "      <td>Toronto</td>\n",
       "      <td>NaN</td>\n",
       "      <td>Woburn (137)</td>\n",
       "      <td>0</td>\n",
       "      <td>0.0</td>\n",
       "      <td>4</td>\n",
       "      <td>2.0</td>\n",
       "      <td>NaN</td>\n",
       "      <td>100.0</td>\n",
       "      <td>NaN</td>\n",
       "      <td>2017-07-10 14:30:30.217267</td>\n",
       "      <td>43.780728</td>\n",
       "      <td>-79.246416</td>\n",
       "      <td>0101000020E6100000834D9D47C5CF53C0278925E5EEE3...</td>\n",
       "    </tr>\n",
       "    <tr>\n",
       "      <th>2</th>\n",
       "      <td>18996734</td>\n",
       "      <td>1428</td>\n",
       "      <td>100200852</td>\n",
       "      <td>Entire home/apt</td>\n",
       "      <td>NaN</td>\n",
       "      <td>Toronto</td>\n",
       "      <td>NaN</td>\n",
       "      <td>Willowdale East (51)</td>\n",
       "      <td>2</td>\n",
       "      <td>0.0</td>\n",
       "      <td>4</td>\n",
       "      <td>2.0</td>\n",
       "      <td>NaN</td>\n",
       "      <td>88.0</td>\n",
       "      <td>NaN</td>\n",
       "      <td>2017-07-10 14:30:13.707004</td>\n",
       "      <td>43.778519</td>\n",
       "      <td>-79.414452</td>\n",
       "      <td>0101000020E6100000C170AE6186DA53C04628B682A6E3...</td>\n",
       "    </tr>\n",
       "    <tr>\n",
       "      <th>3</th>\n",
       "      <td>13448709</td>\n",
       "      <td>1428</td>\n",
       "      <td>40741202</td>\n",
       "      <td>Entire home/apt</td>\n",
       "      <td>NaN</td>\n",
       "      <td>Toronto</td>\n",
       "      <td>NaN</td>\n",
       "      <td>West Humber-Clairville (1)</td>\n",
       "      <td>21</td>\n",
       "      <td>5.0</td>\n",
       "      <td>3</td>\n",
       "      <td>2.0</td>\n",
       "      <td>NaN</td>\n",
       "      <td>63.0</td>\n",
       "      <td>NaN</td>\n",
       "      <td>2017-07-10 14:28:04.257651</td>\n",
       "      <td>43.725403</td>\n",
       "      <td>-79.616909</td>\n",
       "      <td>0101000020E6100000EBE6E26F7BE753C0CCB56801DADC...</td>\n",
       "    </tr>\n",
       "    <tr>\n",
       "      <th>4</th>\n",
       "      <td>13659795</td>\n",
       "      <td>1428</td>\n",
       "      <td>33699825</td>\n",
       "      <td>Entire home/apt</td>\n",
       "      <td>NaN</td>\n",
       "      <td>Toronto</td>\n",
       "      <td>NaN</td>\n",
       "      <td>Newtonbrook West (36)</td>\n",
       "      <td>7</td>\n",
       "      <td>5.0</td>\n",
       "      <td>4</td>\n",
       "      <td>2.0</td>\n",
       "      <td>NaN</td>\n",
       "      <td>72.0</td>\n",
       "      <td>NaN</td>\n",
       "      <td>2017-07-10 14:27:57.716156</td>\n",
       "      <td>43.785733</td>\n",
       "      <td>-79.437599</td>\n",
       "      <td>0101000020E6100000CA703C9F01DC53C0A93121E692E4...</td>\n",
       "    </tr>\n",
       "  </tbody>\n",
       "</table>\n",
       "</div>"
      ],
      "text/plain": [
       "    room_id  survey_id    host_id        room_type  country     city  borough  \\\n",
       "0  19767654       1428   70082317  Entire home/apt      NaN  Toronto      NaN   \n",
       "1  11521420       1428    7994690  Entire home/apt      NaN  Toronto      NaN   \n",
       "2  18996734       1428  100200852  Entire home/apt      NaN  Toronto      NaN   \n",
       "3  13448709       1428   40741202  Entire home/apt      NaN  Toronto      NaN   \n",
       "4  13659795       1428   33699825  Entire home/apt      NaN  Toronto      NaN   \n",
       "\n",
       "                 neighborhood  reviews  overall_satisfaction  accommodates  \\\n",
       "0                Niagara (82)        0                   0.0             3   \n",
       "1                Woburn (137)        0                   0.0             4   \n",
       "2        Willowdale East (51)        2                   0.0             4   \n",
       "3  West Humber-Clairville (1)       21                   5.0             3   \n",
       "4       Newtonbrook West (36)        7                   5.0             4   \n",
       "\n",
       "   bedrooms  bathrooms  price  minstay               last_modified   latitude  \\\n",
       "0       2.0        NaN   96.0      NaN  2017-07-10 14:31:07.859320  43.638055   \n",
       "1       2.0        NaN  100.0      NaN  2017-07-10 14:30:30.217267  43.780728   \n",
       "2       2.0        NaN   88.0      NaN  2017-07-10 14:30:13.707004  43.778519   \n",
       "3       2.0        NaN   63.0      NaN  2017-07-10 14:28:04.257651  43.725403   \n",
       "4       2.0        NaN   72.0      NaN  2017-07-10 14:27:57.716156  43.785733   \n",
       "\n",
       "   longitude                                           location  \n",
       "0 -79.401659  0101000020E61000003849F3C7B4D953C04F0647C9ABD1...  \n",
       "1 -79.246416  0101000020E6100000834D9D47C5CF53C0278925E5EEE3...  \n",
       "2 -79.414452  0101000020E6100000C170AE6186DA53C04628B682A6E3...  \n",
       "3 -79.616909  0101000020E6100000EBE6E26F7BE753C0CCB56801DADC...  \n",
       "4 -79.437599  0101000020E6100000CA703C9F01DC53C0A93121E692E4...  "
      ]
     },
     "execution_count": 33,
     "metadata": {},
     "output_type": "execute_result"
    }
   ],
   "source": [
    "import pandas as pd\n",
    "import numpy as np\n",
    "import matplotlib\n",
    "import matplotlib.pyplot as plt\n",
    "toronto_list = pd.read_csv('toronto.csv')\n",
    "#Printing Whole Dataset including locations, neighborhood and rooms.\n",
    "toronto_list.head()"
   ]
  },
  {
   "cell_type": "code",
   "execution_count": 30,
   "metadata": {},
   "outputs": [
    {
     "name": "stdout",
     "output_type": "stream",
     "text": [
      "Number of unique Accomodation : [ 1  2  3  4  5  6  7  8  9 10 11 12 13 14 15 16]\n",
      "Accommodation 1: 1571\n",
      "Accommodation 2: 5768\n",
      "Accommodation 3: 1485\n",
      "Accommodation 4: 2442\n",
      "Accommodation 5: 581\n",
      "Accommodation 6: 841\n",
      "Accommodation 7: 142\n",
      "Accommodation 8: 229\n",
      "Accommodation 9: 38\n",
      "Accommodation 10: 71\n",
      "Accommodation 11: 12\n",
      "Accommodation 12: 46\n",
      "Accommodation 13: 7\n",
      "Accommodation 14: 13\n",
      "Accommodation 15: 4\n",
      "Accommodation 16: 17\n"
     ]
    }
   ],
   "source": [
    "print('Number of unique Accomodation :',np.unique(toronto_list['accommodates']))\n",
    "for i in range(1,17):\n",
    "    print('Accommodation {}:'.format(i), len(toronto_list[toronto_list['accommodates'] == i]))"
   ]
  },
  {
   "cell_type": "code",
   "execution_count": 39,
   "metadata": {},
   "outputs": [
    {
     "name": "stdout",
     "output_type": "stream",
     "text": [
      "Number of Bedrooms 0 :  907\n"
     ]
    }
   ],
   "source": [
    "# Data Cleaning : Remove Data with null value\n",
    "print(\"Number of Bedrooms 0 : \", len(toronto_list[toronto_list['bedrooms'] == 0]))\n",
    "toronto_list = toronto_list[toronto_list['bedrooms'] != 0]"
   ]
  },
  {
   "cell_type": "code",
   "execution_count": 40,
   "metadata": {},
   "outputs": [
    {
     "name": "stdout",
     "output_type": "stream",
     "text": [
      "Number of Bedrooms : [ 1.  2.  3.  4.  5.  6.  7.  8.  9. 10.]\n",
      "Bedrooms : 1 9028\n",
      "Bedrooms : 2 2262\n",
      "Bedrooms : 3 746\n",
      "Bedrooms : 4 232\n",
      "Bedrooms : 5 53\n",
      "Bedrooms : 6 28\n",
      "Bedrooms : 7 2\n",
      "Bedrooms : 8 3\n",
      "Bedrooms : 9 1\n",
      "Bedrooms : 10 5\n"
     ]
    }
   ],
   "source": [
    "print('Number of Bedrooms :', np.unique(toronto_list['bedrooms']))\n",
    "for i in range(1,11):\n",
    "    print('Bedrooms : {}'.format(i), len(toronto_list[toronto_list['bedrooms'] == i]))"
   ]
  },
  {
   "cell_type": "code",
   "execution_count": 41,
   "metadata": {},
   "outputs": [
    {
     "data": {
      "image/png": "[encoded data removed]",
      "text/plain": [
       "<matplotlib.figure.Figure at 0x7f48f025a828>"
      ]
     },
     "metadata": {},
     "output_type": "display_data"
    }
   ],
   "source": [
    "plt.hist(toronto_list['bedrooms'], bins=50)\n",
    "plt.title('Histogram for Bedrooms')\n",
    "plt.xlabel('Number of Bedrooms')\n",
    "plt.ylabel('Frequency')\n",
    "plt.show()"
   ]
  }
 ],
 "metadata": {
  "kernelspec": {
   "display_name": "Python 3",
   "language": "python",
   "name": "python3"
  },
  "language_info": {
   "codemirror_mode": {
    "name": "ipython",
    "version": 3
   },
   "file_extension": ".py",
   "mimetype": "text/x-python",
   "name": "python",
   "nbconvert_exporter": "python",
   "pygments_lexer": "ipython3",
   "version": "3.6.4"
  }
 },
 "nbformat": 4,
 "nbformat_minor": 2
}
